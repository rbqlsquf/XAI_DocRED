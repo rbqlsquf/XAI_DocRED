{
 "cells": [
  {
   "cell_type": "code",
   "execution_count": 40,
   "metadata": {},
   "outputs": [],
   "source": [
    "import json\n",
    "with open('data/dev-100.json', 'r') as f:\n",
    "    origin_data = json.load(f)"
   ]
  },
  {
   "cell_type": "code",
   "execution_count": 41,
   "metadata": {},
   "outputs": [],
   "source": [
    "import json\n",
    "with open('gpt_answer/gpt_answer_given_relation_gold.json', 'r') as f:\n",
    "    json_data = json.load(f)"
   ]
  },
  {
   "cell_type": "code",
   "execution_count": 42,
   "metadata": {},
   "outputs": [],
   "source": [
    "result = {}\n",
    "all_result = []\n",
    "for idx, data in enumerate(origin_data):\n",
    "    if len(all_result) == 100:\n",
    "        break\n",
    "    if idx >= len(json_data):\n",
    "        print(\"hi\")\n",
    "    if data['data_id'] == json_data[idx]['data_id']:\n",
    "        result['data_id'] = data['data_id']\n",
    "        result['na_triple'] = data['na_triple']\n",
    "        result['pred_evidence'] = \"\"\n",
    "        for j in sorted(json_data[idx]['evidence_index']):\n",
    "            sentence = sentence = \" \".join(data['sentences'][j-1]).replace(\" ,\", \",\").replace(\" .\", \".\").replace(\" (\", \" (\").replace(\" )\", \")\")\n",
    "            result['pred_evidence'] = result['pred_evidence']  + sentence\n",
    "        result['answer_evidence'] = \"\"\n",
    "        for j in sorted(json_data[idx]['evidence_sentence']):\n",
    "            sentence = sentence = \" \".join(data['sentences'][j-1]).replace(\" ,\", \",\").replace(\" .\", \".\").replace(\" (\", \" (\").replace(\" )\", \")\")\n",
    "            result['answer_evidence'] = result['answer_evidence']  + sentence\n",
    "        result['answer'] = json_data[idx]['answer']\n",
    "        # result['answer'] = data['labels']\n",
    "        all_result.append(result)\n",
    "        result = {}\n",
    "\n",
    "with open(\"sent_evidence_gpt_gold.json\", \"w\", encoding=\"utf-8\") as f:\n",
    "    json.dump(all_result, f, ensure_ascii=False, indent=4)\n",
    "    "
   ]
  },
  {
   "cell_type": "code",
   "execution_count": 15,
   "metadata": {},
   "outputs": [],
   "source": [
    "import json\n",
    "with open('data/shuffled_filtered_cut_dev_data.json', 'r') as f:\n",
    "    origin_data = json.load(f)"
   ]
  },
  {
   "cell_type": "code",
   "execution_count": 17,
   "metadata": {},
   "outputs": [],
   "source": [
    "all_result = []\n",
    "for data in origin_data:\n",
    "    if len(all_result) == 100:\n",
    "        break\n",
    "    if data['evidence'] ==[]:\n",
    "        continue\n",
    "    all_result.append(data)\n",
    "    \n",
    "with open(\"data/dev-100.json\", \"w\", encoding=\"utf-8\") as f:\n",
    "    json.dump(all_result, f, ensure_ascii=False, indent=4)"
   ]
  },
  {
   "cell_type": "code",
   "execution_count": null,
   "metadata": {},
   "outputs": [],
   "source": []
  },
  {
   "cell_type": "code",
   "execution_count": null,
   "metadata": {},
   "outputs": [],
   "source": []
  },
  {
   "cell_type": "markdown",
   "metadata": {},
   "source": [
    "# 전체 문서 다 쓰기"
   ]
  },
  {
   "cell_type": "code",
   "execution_count": 57,
   "metadata": {},
   "outputs": [],
   "source": [
    "result = {}\n",
    "all_result = []\n",
    "for idx, data in enumerate(origin_data):\n",
    "    if data['data_id'] == json_data[idx]['data_id']:\n",
    "        result['data_id'] = data['data_id']\n",
    "        result['na_triple'] = data['na_triple']\n",
    "        result['all_document'] = \"\"\n",
    "        for i, j in enumerate(range(len(data['sentences']))):\n",
    "            sentence = \" \".join(data['sentences'][j-1]).replace(\" ,\", \",\").replace(\" .\", \".\").replace(\" (\", \" (\").replace(\" )\", \")\")\n",
    "            sentence = '[{}] '.format(i+1) + sentence + '\\n'\n",
    "            result['all_document'] = result['all_document']  + sentence\n",
    "\n",
    "        result['predict'] = json_data[idx]['predict']\n",
    "        result['answer'] = json_data[idx]['answer']\n",
    "        all_result.append(result)\n",
    "        result = {}\n",
    "\n",
    "with open(\"all_document.json\", \"w\", encoding=\"utf-8\") as f:\n",
    "    json.dump(all_result, f, ensure_ascii=False, indent=4)\n",
    "    "
   ]
  },
  {
   "cell_type": "code",
   "execution_count": null,
   "metadata": {},
   "outputs": [],
   "source": []
  }
 ],
 "metadata": {
  "kernelspec": {
   "display_name": "pythontest",
   "language": "python",
   "name": "python3"
  },
  "language_info": {
   "codemirror_mode": {
    "name": "ipython",
    "version": 3
   },
   "file_extension": ".py",
   "mimetype": "text/x-python",
   "name": "python",
   "nbconvert_exporter": "python",
   "pygments_lexer": "ipython3",
   "version": "3.8.10"
  }
 },
 "nbformat": 4,
 "nbformat_minor": 2
}
