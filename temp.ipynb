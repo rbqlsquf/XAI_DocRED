{
 "cells": [
  {
   "cell_type": "code",
   "execution_count": 33,
   "metadata": {},
   "outputs": [],
   "source": [
    "import json\n",
    "with open('predict_0.json', 'r') as f:\n",
    "    json_data = json.load(f)"
   ]
  },
  {
   "cell_type": "code",
   "execution_count": 34,
   "metadata": {},
   "outputs": [
    {
     "data": {
      "text/plain": [
       "13"
      ]
     },
     "execution_count": 34,
     "metadata": {},
     "output_type": "execute_result"
    }
   ],
   "source": [
    "len(json_data)"
   ]
  },
  {
   "cell_type": "code",
   "execution_count": 35,
   "metadata": {},
   "outputs": [
    {
     "data": {
      "text/plain": [
       "3"
      ]
     },
     "execution_count": 35,
     "metadata": {},
     "output_type": "execute_result"
    }
   ],
   "source": [
    "len(json_data[0]['predict_logit'][0][0])"
   ]
  },
  {
   "cell_type": "code",
   "execution_count": 36,
   "metadata": {},
   "outputs": [],
   "source": [
    "import numpy as np\n",
    "def cosine_calcu(list1, list2):\n",
    "# Convert lists to numpy arrays (vectors)\n",
    "    vector1 = np.array(list1)\n",
    "    vector2 = np.array(list2)\n",
    "\n",
    "    # Compute cosine similarity\n",
    "    dot_product = np.dot(vector1, vector2)\n",
    "    magnitude1 = np.linalg.norm(vector1)\n",
    "    magnitude2 = np.linalg.norm(vector2)\n",
    "    cosine_similarity = dot_product / (magnitude1 * magnitude2)\n",
    "    \n",
    "    return cosine_similarity"
   ]
  },
  {
   "cell_type": "code",
   "execution_count": 42,
   "metadata": {},
   "outputs": [],
   "source": [
    "\n",
    "for data in json_data:\n",
    "    batch_predict_logit = data['predict_logit']\n",
    "    batch_e_predict_logit = data['e_predict_logit']\n",
    "    batch_answer = data['e_predict_logit']\n",
    "    cosine = []\n",
    "    for batch in range(len(batch_predict_logit)):\n",
    "        predict_logits = batch_predict_logit[batch]\n",
    "        e_predict_logits = batch_e_predict_logit[batch]\n",
    "        predict_labels = np.argmax(predict_logits, axis = 0)\n",
    "        e_predict_labels = np.argmax(e_predict_logits, axis = 0)\n",
    "        path_cos = []\n",
    "        for i in range(3):\n",
    "            path_cos.append(cosine_calcu(predict_logits[i],e_predict_logits[i]))\n",
    "        cosine.append(path_cos)\n",
    "        \n",
    "        diff = predict_labels != e_predict_labels\n",
    "        \n",
    "    \n",
    "        "
   ]
  },
  {
   "cell_type": "code",
   "execution_count": null,
   "metadata": {},
   "outputs": [],
   "source": []
  }
 ],
 "metadata": {
  "kernelspec": {
   "display_name": "Python 3",
   "language": "python",
   "name": "python3"
  },
  "language_info": {
   "codemirror_mode": {
    "name": "ipython",
    "version": 3
   },
   "file_extension": ".py",
   "mimetype": "text/x-python",
   "name": "python",
   "nbconvert_exporter": "python",
   "pygments_lexer": "ipython3",
   "version": "3.8.10"
  }
 },
 "nbformat": 4,
 "nbformat_minor": 2
}
