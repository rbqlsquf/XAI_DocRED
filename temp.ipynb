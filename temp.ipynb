{
 "cells": [
  {
   "cell_type": "code",
   "execution_count": 13,
   "metadata": {},
   "outputs": [],
   "source": [
    "import json\n",
    "with open('predict_0_test.json', 'r') as f:\n",
    "    json_data = json.load(f)"
   ]
  },
  {
   "cell_type": "code",
   "execution_count": 14,
   "metadata": {},
   "outputs": [
    {
     "data": {
      "text/plain": [
       "97"
      ]
     },
     "execution_count": 14,
     "metadata": {},
     "output_type": "execute_result"
    }
   ],
   "source": [
    "len(json_data[0]['predict_logit'][0])"
   ]
  },
  {
   "cell_type": "code",
   "execution_count": 15,
   "metadata": {},
   "outputs": [
    {
     "name": "stdout",
     "output_type": "stream",
     "text": [
      "0.91\n",
      "91\n",
      "100\n"
     ]
    }
   ],
   "source": [
    "\n",
    "import numpy as np\n",
    "from scipy.special import rel_entr\n",
    "\n",
    "all_result = []\n",
    "a = 0\n",
    "b = 0\n",
    "for data in json_data:\n",
    "    for batch in range(len(data['predict_logit'])):\n",
    "        predict_logit = data['predict_logit'][batch]\n",
    "        predict_labels = np.argmax(predict_logit, axis = 0)\n",
    "        e_predict_logit = data['e_predict_logit'][batch]\n",
    "        e_predict_labels = np.argmax(e_predict_logit, axis = 0)\n",
    "        if predict_labels == e_predict_labels:\n",
    "            a += 1\n",
    "        b += 1\n",
    "\n",
    "print(a/b)\n",
    "print(a)\n",
    "print(b)\n",
    "        "
   ]
  },
  {
   "cell_type": "code",
   "execution_count": null,
   "metadata": {},
   "outputs": [],
   "source": [
    "\n",
    "import numpy as np\n",
    "from scipy.special import rel_entr\n",
    "\n",
    "all_result = []\n",
    "a = 0\n",
    "for data in json_data:\n",
    "    for batch in range(8):\n",
    "        predict_logit = data['predict_logit'][batch]\n",
    "        predict_labels = np.argmax(predict_logit, axis = 0)\n",
    "        e_predict_logit = data['e_predict_logit'][batch]\n",
    "        e_predict_labels = np.argmax(e_predict_logit, axis = 0)\n",
    "        if predict_labels == e_predict_labels:\n",
    "            a += 1\n",
    "            \n",
    "        # 두 확률 분포 (예시)\n",
    "        P = np.array([0.1, 0.4, 0.5])\n",
    "        Q = np.array([0.2, 0.3, 0.5])\n",
    "\n",
    "        # KL Divergence 계산\n",
    "        kl_div = np.sum(rel_entr(P, Q))\n",
    "\n",
    "        print(f\"KL Divergence: {kl_div}\")"
   ]
  },
  {
   "cell_type": "code",
   "execution_count": null,
   "metadata": {},
   "outputs": [],
   "source": [
    "import json\n",
    "with open('data/dev_data.json', 'r') as f:\n",
    "    json_data = json.load(f)"
   ]
  }
 ],
 "metadata": {
  "kernelspec": {
   "display_name": "Python 3",
   "language": "python",
   "name": "python3"
  },
  "language_info": {
   "codemirror_mode": {
    "name": "ipython",
    "version": 3
   },
   "file_extension": ".py",
   "mimetype": "text/x-python",
   "name": "python",
   "nbconvert_exporter": "python",
   "pygments_lexer": "ipython3",
   "version": "3.8.10"
  }
 },
 "nbformat": 4,
 "nbformat_minor": 2
}
